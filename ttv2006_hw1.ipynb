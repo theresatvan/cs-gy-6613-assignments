{
  "nbformat": 4,
  "nbformat_minor": 0,
  "metadata": {
    "colab": {
      "provenance": [],
      "mount_file_id": "1KCDGUN4F6Jh0k_M60tc3FKJl-jyvTaip",
      "authorship_tag": "ABX9TyPnSS9A6Dt+kEPwsMHEpvB7",
      "include_colab_link": true
    },
    "kernelspec": {
      "name": "python3",
      "display_name": "Python 3"
    },
    "language_info": {
      "name": "python"
    }
  },
  "cells": [
    {
      "cell_type": "markdown",
      "metadata": {
        "id": "view-in-github",
        "colab_type": "text"
      },
      "source": [
        "<a href=\"https://colab.research.google.com/github/theresatvan/cs-gy-6613-assignments/blob/main/ttv2006_hw1.ipynb\" target=\"_parent\"><img src=\"https://colab.research.google.com/assets/colab-badge.svg\" alt=\"Open In Colab\"/></a>"
      ]
    },
    {
      "cell_type": "markdown",
      "source": [
        "<a href=\"https://github.com/theresatvan/cs-gy-6613-assignments.git\">"
      ],
      "metadata": {
        "id": "xtzuLZurPHPu"
      }
    },
    {
      "cell_type": "markdown",
      "source": [
        "# Probability Assignment\n",
        "\n",
        "## Question 1a (10 points)\n",
        "\n",
        "In a private subreddit people are posting their opinions on the CEO of the company you work for. Lets assume that the employees that are posting are random logging in to that subreddit and that each post indicates whether the employee approves or not the job that the CEO is doing. Let $x_i$ be the binary random variable where $x = 1$ indicates approval. You can assume that $x$ is distributed according to a Bernoulli distribution with parameter $p = 1/2$.\n",
        "\n",
        "Your job is to sample $n = 50$ posts and estimate the approval rate of the CEO by considering the statistics of $y = x_1 + x_2 + ... + x_n$. What is the probability that 25 employees approve the CEO?"
      ],
      "metadata": {
        "id": "HBhDE3mgLHkS"
      }
    },
    {
      "cell_type": "markdown",
      "source": [
        "**Answer:**\n",
        "\n",
        "As we are seeking 25 successes from a sample of 50 Bernoulli trials, use a Binomial distribution which is given as\n",
        "\n",
        "<div align=\"center\">\n",
        "$p(m | N, p) =\n",
        "  \\begin{pmatrix}\n",
        "    N\\\\\n",
        "    m\n",
        "  \\end{pmatrix}\n",
        "  p^m(1-p)^{N-m}$\n",
        "</div>\n",
        "\n",
        "where $m$ is the number of successes, $N$ is the amount of Bernoulli trials, and $p$ is the probability of a success."
      ],
      "metadata": {
        "id": "_kWCtTW_-omy"
      }
    },
    {
      "cell_type": "code",
      "execution_count": null,
      "metadata": {
        "colab": {
          "base_uri": "https://localhost:8080/"
        },
        "id": "j-pAv3qLKtfV",
        "outputId": "a35c4ff7-123d-4f66-fa9a-0f6cefff2dd9"
      },
      "outputs": [
        {
          "output_type": "stream",
          "name": "stdout",
          "text": [
            "Probability of 25 successes from a sample of 50 posts: 0.11227517265921709\n"
          ]
        }
      ],
      "source": [
        "import scipy.special\n",
        "\n",
        "m = 25\n",
        "N = 50\n",
        "p = 0.5\n",
        "binom_coef = scipy.special.binom(N,m)\n",
        "\n",
        "# calculate Binomial distribution\n",
        "p_hat = binom_coef * p**m * (1-p)**(N-m)\n",
        "print('Probability of 25 successes from a sample of 50 posts: {0}'.format(p_hat))"
      ]
    },
    {
      "cell_type": "markdown",
      "source": [
        "## Question 1b (10 points)\n",
        "\n",
        "Following your findings in Q1a, read about the [Central Limit Theorem](https://en.wikipedia.org/wiki/Central_limit_theorem) and recognize that\n",
        "\n",
        "<div align=\"center\">\n",
        "  $z = \\frac{y - \\mu_y}{\\sigma_y}$\n",
        "</div>\n",
        "\n",
        "is normally distributed with mean 0 and variance 1.\n",
        "\n",
        "Can you find the probability that 25 employees approve the CEO using the Gaussian approximation?\n",
        "\n",
        "Type the answer here using the [latex syntax](https://wch.github.io/latexsheet/) or handwrite the answer, upload the picture in the same folder and use a new markdown cell with markdown syntax `![title](image_name.png)`\n"
      ],
      "metadata": {
        "id": "mXEbhZD0MfHd"
      }
    },
    {
      "cell_type": "markdown",
      "source": [
        "**Answer:**\n",
        "\n",
        "To use Central Limit Theorem to find probability that 25 employees approve the CEO, calculate $P(24.5 \\leq X \\leq 25.5)$, where $μ = np = 25$ and $σ^2 = np(1 - p) = 12.5$.\n",
        "\n",
        "Calculate $Z$ variables to standardize $X$ for Gaussian approximation.\n",
        "<div align=\"center\">\n",
        "$P(\\frac{24.5 - 25}{\\sqrt{12.5}} < \\frac{X - μ}{σ} \\leq \\frac{25.5 - 25}{\\sqrt{12.5}})$\n",
        "\n",
        "$= P(-0.141 < Z \\leq 0.141)$\n",
        "\n",
        "$ = P(Z \\leq 0.141) - P(Z \\leq -0.141)$\n",
        "</div>\n",
        "\n",
        "Now, we can calculate the normal CDFs of $Z$, such that $Z \\sim 𝒩(0,1)$.\n",
        "<div align=\"center\">\n",
        "$P(Z \\leq 0.141) - P(Z \\leq -0.141)$\n",
        "\n",
        "$≈ 0.556 - 0.444$\n",
        "\n",
        "$≈ 0.112$\n",
        "</div>"
      ],
      "metadata": {
        "id": "gqLQMXsSk2oJ"
      }
    },
    {
      "cell_type": "code",
      "source": [
        "import math\n",
        "from scipy.stats import norm\n",
        "\n",
        "# standardize X for Gaussian approximation\n",
        "def get_z_value(mean, variance, X):\n",
        "  return (X - mean) / math.sqrt(variance)\n",
        "\n",
        "mean = N * p\n",
        "variance = N * p * (1 - p)\n",
        "\n",
        "# define upper and lower bounds\n",
        "upper = get_z_value(mean, variance, 25.5)\n",
        "lower = get_z_value(mean, variance, 24.5)\n",
        "\n",
        "# normal CDFs of upper and lower bounds\n",
        "norm_upper = norm.cdf(upper)\n",
        "norm_lower = norm.cdf(lower)\n",
        "\n",
        "print(\"Upper and lower bounds after standardizing for Gaussian approximation: ({0}, {1})\".format(lower, upper))\n",
        "print(\"Gaussian approximation of binomial distribution: {0} - {1} = {2}\".format(norm_upper, norm_lower, norm_upper - norm_lower))"
      ],
      "metadata": {
        "colab": {
          "base_uri": "https://localhost:8080/"
        },
        "id": "HXnJEhxX665h",
        "outputId": "3a0f56ab-2aed-463d-b0df-d873dbf756c0"
      },
      "execution_count": null,
      "outputs": [
        {
          "output_type": "stream",
          "name": "stdout",
          "text": [
            "Upper and lower bounds after standardizing for Gaussian approximation: (-0.1414213562373095, 0.1414213562373095)\n",
            "Gaussian approximation of binomial distribution: 0.5562314580091424 - 0.4437685419908576 = 0.11246291601828484\n"
          ]
        }
      ]
    },
    {
      "cell_type": "markdown",
      "source": [
        "## Question 2 (20 points)\n",
        "\n",
        "A sequential experiment involves repeatedly drawing a ball from one of the two urns, noting the number on the ball and replacing the ball in the urn. Urn 0 contains a ball with the number 0 and two balls with the number 1. Urn 1 contains five balls with the number 0 and one ball with the number 1.\n",
        "\n",
        "The urn from which the first ball is drawn is selected by flipping a fair coin. Urn 0 is used if the outcome is H and urn 1 is used if the outcome is T. **The urn used in a subsequent draws corresponds to the number on the ball drawn in the previous draw.**\n",
        "\n",
        "What is the probability of a specific sequence of the numbers on drawn balls being 0011 ?\n",
        "\n",
        "Type the answer here using the [latex syntax](https://wch.github.io/latexsheet/) or handwrite the answer, upload the picture in the same folder and use a new markdown cell with markdown syntax `![title](image_name.png)`"
      ],
      "metadata": {
        "id": "TP-gNPlcPVIV"
      }
    },
    {
      "cell_type": "markdown",
      "source": [
        "**Answer:**\n",
        "\n",
        "Given the sequence of 0011 drawn, order of events must be\n",
        "\n",
        "1.   Pick ball with number 0 from Urn 0 given H is flipped, or pick ball with number 0 from Urn 1 given T is flipped. This event can be denoted as $x_1$ where \\\n",
        "$P(x_1) = P(\\text{ball 0 from Urn 0}) ∪ P(\\text{ball 0 from Urn 1}) = (\\frac{1}{2})( \\frac{1}{3}) + (\\frac{1}{2})(\\frac{5}{6}) = \\frac{7}{12}$.\n",
        "\n",
        "2.   Pick ball with number 0 from Urn 0. This event can be denoted as $x_2$ where \\\n",
        "$P(x_2) = P(\\text{ball 0 from Urn 0}) = \\frac{1}{3}$\n",
        "\n",
        "3.   Pick ball with number 1 from Urn 0. This event can be denoted as $x_3$ where \\\n",
        "$P(x_3) = P(\\text{ball 1 from Urn 0}) = \\frac{2}{3}$\n",
        "\n",
        "4.   Pick ball with number 1 from Urn 1. This event can be denoted as $x_4$ where \\\n",
        "$P(x_4) = P(\\text{ball 1 from Urn 1}) = \\frac{1}{6}$\n",
        "\n",
        "Sampling with replacement is occurring, so all events are independent. We can conclude that\n",
        "\n",
        "<div align=\"center\">\n",
        "$P(x_1, x_2, x_3, x_4) = P(x_4) · P(x_3) · P(x_2) · P(x_1)$\n",
        "\n",
        "$= \\frac{1}{6} · \\frac{2}{3} · \\frac{1}{3} · \\frac{7}{12} = \\frac{7}{324} ≈ 0.0216$\n",
        "</div>"
      ],
      "metadata": {
        "id": "5k-_O4u0VOUO"
      }
    },
    {
      "cell_type": "markdown",
      "source": [
        "## Question 3 (20 points)\n",
        "\n",
        "Referring to Example 6.6 of the [Math for ML book](https://mml-book.github.io/book/mml-book.pdf), simulate and plot the bivariate normal distribution with the shown parameters using the [Cholesky factorization](https://numpy.org/doc/stable/reference/generated/numpy.linalg.cholesky.html) for the simulation."
      ],
      "metadata": {
        "id": "gOLpUsLvPmox"
      }
    },
    {
      "cell_type": "markdown",
      "source": [
        "**Answer:**\n",
        "\n",
        "The bivariate normal distribution is given as \\\n",
        "<div align=\"center\">\n",
        "$\n",
        "p(x_1, x_2) = 𝒩(\n",
        "  \\begin{bmatrix}\n",
        "  0 \\\\\n",
        "  2\n",
        "  \\end{bmatrix},\n",
        "  \\begin{bmatrix}\n",
        "  0.3 & -1 \\\\\n",
        "  -1 & 5\n",
        "  \\end{bmatrix})\n",
        "$\n",
        "</div>\n",
        "\n",
        "Given a set of uncorrelated values, Cholesky factorization is able to generate correlated random variables."
      ],
      "metadata": {
        "id": "HUMmAieTfuZv"
      }
    },
    {
      "cell_type": "code",
      "source": [
        "from dataclasses import dataclass\n",
        "import numpy as np\n",
        "import matplotlib.pyplot as plt\n",
        "from scipy.stats import multivariate_normal\n",
        "\n",
        "# Initiate mean vector and covariance matrix\n",
        "mu = np.array([0, 2])\n",
        "sigma = np.array([[0.3,-1],[-1,5]])\n",
        "\n",
        "# Calculate Cholesky factor L from the covariance matrix\n",
        "L = np.linalg.cholesky(sigma)\n",
        "\n",
        "# Generate randomized data from a normal distribution and perform Cholesky factorization\n",
        "data = np.random.normal(size=(1000,2))\n",
        "data = np.dot(data, L) + mu\n",
        "\n",
        "# Store coordinates of grid into a single 3D array\n",
        "X1, X2 = np.mgrid[-1.5:1.5:0.1, -4:8:.01]\n",
        "pos = np.empty(X1.shape + (2,))\n",
        "pos[:, :, 0] = X1\n",
        "pos[:, :, 1] = X2\n",
        "\n",
        "# Retrieve PDFs of the bivariate normal distribution\n",
        "bivariate = multivariate_normal(mu, sigma)\n",
        "Z = bivariate.pdf(pos)\n",
        "\n",
        "# Plot contour graph\n",
        "plt.contourf(X1, X2, Z)\n",
        "plt.title('Bivariate Gaussian from Cholesky Factorization')\n",
        "plt.xlabel('x1')\n",
        "plt.ylabel('x2')\n",
        "plt.show()"
      ],
      "metadata": {
        "colab": {
          "base_uri": "https://localhost:8080/",
          "height": 295
        },
        "id": "dYixPgI7baXn",
        "outputId": "1bc443e7-00a0-41c8-bb99-8c70fa55a277"
      },
      "execution_count": null,
      "outputs": [
        {
          "output_type": "display_data",
          "data": {
            "text/plain": [
              "<Figure size 432x288 with 1 Axes>"
            ],
            "image/png": "[encoded data removed]"
          },
          "metadata": {
            "needs_background": "light"
          }
        }
      ]
    },
    {
      "cell_type": "markdown",
      "source": [
        "## Question 4 (20 points)\n",
        "\n",
        "Go through the provided links on [Poisson](https://dlsun.github.io/probability/poisson.html) and [exponential distributions](https://dlsun.github.io/probability/exponential.html) as the Math for ML textbook in your course site is not covering enough these important distributions.\n",
        "\n",
        "Watch this video https://www.youtube.com/watch?v=Asto3RS46ks where the author is explaining how to simulate a Poisson distribution from scratch.\n",
        "\n",
        "\n",
        "1.   Using the Kaggle API download [this dataset](https://www.kaggle.com/datasets/new-york-city/nyc-east-river-bicycle-crossings) and plot the histogram of the number of cyclists that cross the Brooklyn bridge per day.\n",
        "2.   Simulate the number of cyclists that cross the Brooklyn bridge per day using the Poisson distribution. Ensure that the simulated counts are similar distribution-wise to the observed counts.\n",
        "\n"
      ],
      "metadata": {
        "id": "dDh25Gc3PwFI"
      }
    },
    {
      "cell_type": "markdown",
      "source": [
        "**Answer:**"
      ],
      "metadata": {
        "id": "a1OOgltehWyr"
      }
    },
    {
      "cell_type": "code",
      "source": [
        "from google.colab import drive\n",
        "drive.mount('/content/gdrive')\n",
        "\n",
        "! mkdir ~/.kaggle\n",
        "! cp '/content/gdrive/My Drive/Kaggle/kaggle.json' ~/.kaggle/\n",
        "! chmod 600 '/root/.kaggle/kaggle.json'"
      ],
      "metadata": {
        "id": "mVvatQ2lbC_0",
        "colab": {
          "base_uri": "https://localhost:8080/"
        },
        "outputId": "15b1d2cb-afcd-4e76-fad3-85be5f28e478"
      },
      "execution_count": null,
      "outputs": [
        {
          "output_type": "stream",
          "name": "stdout",
          "text": [
            "Drive already mounted at /content/gdrive; to attempt to forcibly remount, call drive.mount(\"/content/gdrive\", force_remount=True).\n",
            "mkdir: cannot create directory ‘/root/.kaggle’: File exists\n"
          ]
        }
      ]
    },
    {
      "cell_type": "code",
      "source": [
        "! kaggle datasets download -d new-york-city/nyc-east-river-bicycle-crossings\n",
        "\n",
        "import matplotlib.pyplot as plt\n",
        "import pandas as pd\n",
        "\n",
        "df = pd.read_csv(\"/content/nyc-east-river-bicycle-crossings.zip\", compression='zip')\n",
        "\n",
        "date = pd.to_datetime(df['Date'], format='%Y-%m-%d')\n",
        "cyclists_bb = df['Brooklyn Bridge']\n",
        "\n",
        "plt.bar(date, cyclists_bb)\n",
        "plt.title(\"Amount of cyclists crossing Brooklyn Bridge per day\")\n",
        "plt.xlabel('Date')\n",
        "plt.ylabel('Amount of cyclists')\n",
        "plt.show()"
      ],
      "metadata": {
        "id": "tnXj7vUPQSfQ",
        "colab": {
          "base_uri": "https://localhost:8080/",
          "height": 347
        },
        "outputId": "c624d66f-a38b-43a3-8483-9eda4b960908"
      },
      "execution_count": null,
      "outputs": [
        {
          "output_type": "stream",
          "name": "stdout",
          "text": [
            "Downloading nyc-east-river-bicycle-crossings.zip to /content\n",
            "\r  0% 0.00/1.78k [00:00<?, ?B/s]\n",
            "\r100% 1.78k/1.78k [00:00<00:00, 1.78MB/s]\n"
          ]
        },
        {
          "output_type": "display_data",
          "data": {
            "text/plain": [
              "<Figure size 432x288 with 1 Axes>"
            ],
            "image/png": "[encoded data removed]"
          },
          "metadata": {
            "needs_background": "light"
          }
        }
      ]
    },
    {
      "cell_type": "code",
      "source": [
        "import numpy as np\n",
        "\n",
        "# Generate Poisson trials\n",
        "def poisson(lam):\n",
        "  el, n, u = np.exp(-lam), 0, np.random.uniform(0,1)\n",
        "  pp, fact, pow = el, 1, 1\n",
        "\n",
        "  while u > pp:\n",
        "    n += 1\n",
        "    fact, pow = n * fact, lam * pow\n",
        "    pp = pp + (pow / fact) * el\n",
        "\n",
        "  return n\n",
        "\n",
        "# Store predictions\n",
        "# Lambda is chosen to be the actual number of cyclists seen that day as reported in the data set\n",
        "p_hat = np.array([poisson(cyclists / 100) for cyclists in cyclists_bb])\n",
        "\n",
        "# Plot the histogram\n",
        "plt.bar(date, p_hat)\n",
        "plt.title('Poisson')\n",
        "plt.title(\"Amount of cyclists crossing Brooklyn Bridge per day\")\n",
        "plt.xlabel('Date')\n",
        "plt.ylabel('Amount of cyclists')\n",
        "plt.show()"
      ],
      "metadata": {
        "colab": {
          "base_uri": "https://localhost:8080/",
          "height": 295
        },
        "id": "edVsryEDgpZY",
        "outputId": "a20af5ec-3c0d-4a38-fbf2-757e44cd2475"
      },
      "execution_count": null,
      "outputs": [
        {
          "output_type": "display_data",
          "data": {
            "text/plain": [
              "<Figure size 432x288 with 1 Axes>"
            ],
            "image/png": "[encoded data removed]"
          },
          "metadata": {
            "needs_background": "light"
          }
        }
      ]
    },
    {
      "cell_type": "markdown",
      "source": [
        "## Question 5 (20 points)\n",
        "\n",
        "You are asked to stress test an cloud API endpoint and are told that the API exposes a database server that can be abstracted as an M/M/1 queue. Go through [this introductory](https://queue-it.com/blog/queuing-theory/) page to just understand the queuing domain and the notation M/M/1. Go also through the elements of the MM1 queue [here](https://en.wikipedia.org/wiki/M/M/1_queue). Make sure you click on the links and learn about the random process called Poisson process.\n",
        "\n",
        "Your task is to simulate the behavior of the queue and plot the number of requests that are waiting in the queue as a function of time. You are given three arrival rates of the API requests $λ = [1,3,4]$ and the service time of the requests as an exponential random variable with rate $μ = 4$."
      ],
      "metadata": {
        "id": "ZNklyhesQyZC"
      }
    },
    {
      "cell_type": "markdown",
      "source": [
        "**Answer**:"
      ],
      "metadata": {
        "id": "rzZi-ceLJroK"
      }
    },
    {
      "cell_type": "code",
      "source": [
        "import numpy as np\n",
        "import matplotlib.pyplot as plt\n",
        "from collections import deque\n",
        "\n",
        "# Simulate a M/M/1 queue\n",
        "def mm1(mu, lam):\n",
        "  queue = deque([])\n",
        "  times = []\n",
        "  queue_size = []\n",
        "  next_arrival = time = np.random.poisson(lam)\n",
        "\n",
        "  # Generating 1000 samples\n",
        "  for i in range(1000):\n",
        "    while next_arrival <= time:\n",
        "      queue.append(next_arrival)\n",
        "      next_arrival += np.random.poisson(lam)\n",
        "\n",
        "    queue.popleft()\n",
        "\n",
        "    if queue:\n",
        "      time += np.random.exponential(mu)\n",
        "    else:\n",
        "      time = next_arrival + np.random.exponential(mu)\n",
        "\n",
        "    times.append(time)\n",
        "    queue_size.append(len(queue))\n",
        "\n",
        "  return times, queue_size\n",
        "\n",
        "# Initialize parameters\n",
        "mu = 4\n",
        "lams = [1, 3, 4]\n",
        "colors = ['b', 'g', 'r']\n",
        "\n",
        "# Plot results\n",
        "for i, lam in enumerate(lams):\n",
        "  x, y = mm1(mu, lam)\n",
        "  plt.plot(x, y, colors[i], label=r'$\\lambda$='+str(lam))\n",
        "\n",
        "plt.title('Amount of queued jobs over time in a M/M/1 queue')\n",
        "plt.xlabel('Time')\n",
        "plt.ylabel('Queued Jobs')\n",
        "plt.legend()\n",
        "plt.show()"
      ],
      "metadata": {
        "id": "2F_ySg3hRcsq",
        "colab": {
          "base_uri": "https://localhost:8080/",
          "height": 295
        },
        "outputId": "6491948d-6e95-43e3-dbce-f171cf6afa79"
      },
      "execution_count": null,
      "outputs": [
        {
          "output_type": "display_data",
          "data": {
            "text/plain": [
              "<Figure size 432x288 with 1 Axes>"
            ],
            "image/png": "[encoded data removed]"
          },
          "metadata": {
            "needs_background": "light"
          }
        }
      ]
    }
  ]
}